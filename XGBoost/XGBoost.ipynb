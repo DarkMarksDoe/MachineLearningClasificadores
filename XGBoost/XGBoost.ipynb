{
 "cells": [
  {
   "cell_type": "markdown",
   "metadata": {},
   "source": [
    "[![Open In Colab](https://colab.research.google.com/assets/colab-badge.svg)](https://colab.research.google.com/github/DarkMarksDoe/MachineLearningClasificadores/blob/master/XGBoost/XGBoost.ipynb)"
   ]
  },
  {
   "cell_type": "markdown",
   "metadata": {},
   "source": [
    "<img src=\"images/xgboost.png\"/>\n",
    "<h1 align=\"center\"> eXtreme Gradient Boosting </h1>\n",
    "<br>\n",
    "\n",
    "## ¿No lo conoces?, ¿Bromeas?\n",
    "<img src=\"images/papucho.jpg\"/>\n",
    "<br>\n",
    "\n",
    "## Abro hilo para que lo conozcas: \n",
    "<img src=\"images/abrohilo.jpg\"/>"
   ]
  },
  {
   "cell_type": "markdown",
   "metadata": {},
   "source": [
    "## Ventajas:  \n",
    "\n",
    "&emsp;**1.- Es de código abierto:**    \n",
    "&emsp; &emsp; Es mantenido y actualizado [DMLC](https://github.com/dmlc). **D**istributed (Deep) **M**achine **L**earning **C**ommunity  \n",
    "&emsp;**2.- Puede ser distribuido:**       \n",
    "&emsp; &emsp; Permite el _training_ en multiples _Cloud Machines_ , incluyendo: **AWS**, **GCE**, **Azure** y **Yarn**. Igual con otros _Cloud Dataflow Systems_ como **Flink** y **Spark**.    \n",
    "&emsp;**3.- _GPU_ / _CPU_ friendly bro:**       \n",
    "&emsp; &emsp; Dentro de los parametros de xgboost permite modificar si el _training_ será por CPU o GPU, y si es CPU permite definir el número de _Cores_.  \n",
    "&emsp;**4.- Buena regularización:**     \n",
    "&emsp; &emsp; Para prevenir el _Overfitting_ o _Memorizar_ contiene 2 parámetros **_L1_** _(Lasso Regression)_ y **_L2_** _(Ridge Regression)_.  \n",
    "&emsp; &emsp; Mientras usamos la librería de [scikit-learn](https://scikit-learn.org), pasamos 2 _hyper-params_ (**alpha** y **lambda**) para regularizar XGBoost. **alpha** es usada para _L1_ y **lambda**      \n",
    "&emsp; &emsp; para _[L2](https://scikit-learn.org/stable/modules/generated/sklearn.ensemble.HistGradientBoostingClassifier.html?highlight=l2_regularization)_.   \n",
    "&emsp; **5.- Cross Validation:**  \n",
    "&emsp; &emsp; XGBoost permite correr _cross-validation_ en cada iteración del proceso de _boosting_ y gracias a eso es fácil obtener el número óptimo exacto de las  \n",
    "&emsp; &emsp; iteraciones en una unica ejecución.  \n"
   ]
  },
  {
   "cell_type": "markdown",
   "metadata": {},
   "source": [
    "\n",
    "## Sí sí, muy bonito todo, pero...  \n",
    "## ¿Pa' qué o qué?  \n",
    "\n",
    "#### Deja te explico mi estimado lector anónimo, el pa' qué de usar XGBoost.\n",
    "\n",
    "- Ha sido un algoritmo usado en hackathones por su buen rendimiento\n",
    "- NVIDIA e Intel son sponsors\n",
    "- Sigue teniendo soporte y mejoras\n",
    "- 16.9k estrellas en GitHub\n",
    "- Es de los algoritmos de Supervised Machine Learning más usados en la actualidad\n",
    "- Da buenos resultados con poco esfuerzo\n",
    "- Ha llegado a ser mejor que otros modelos más complejos computacionalmente (en especial con datos heterogéneos)\n",
    "- Puede voltear 14 tazos de un solo golpe\n",
    "- Por algo tiene el Extreme en el nombre\n",
    "- Ordena tacos con dos tortillas y salda de la que pica\n",
    "- Sale a la calle con cubrebocas\n",
    "- Tiene un Tsuro tuneado mi pana\n",
    "- Está Tuneadisimo HDSTPM"
   ]
  },
  {
   "cell_type": "markdown",
   "metadata": {},
   "source": [
    "Ya que sabes el **por qué** deberías de considerar a XGBoost como _Match_ intentemos responder un poco a la pregunta, ¿Y cómo funciona?"
   ]
  },
  {
   "cell_type": "markdown",
   "metadata": {},
   "source": [
    "## ¿Cómo funciona?\n",
    "\n",
    "<img src=\"images/aliens.jpg\"/>\n",
    "\n",
    "#### ALIENS, listo, siguiente pregunta.\n",
    "Nah nocierto, en el archivo _**IntroduccionXGBoost.ipynb**_ las respuestas encontrarás"
   ]
  },
  {
   "cell_type": "markdown",
   "metadata": {},
   "source": [
    "_Antes de que se pierdan los links_\n",
    "\n",
    "<img src=\"images/fuente.jpeg\">"
   ]
  },
  {
   "cell_type": "markdown",
   "metadata": {},
   "source": [
    "## Páginas\n",
    "- [Long She May Rein - Medium / TDS](https://towardsdatascience.com/https-medium-com-vishalmorde-xgboost-algorithm-long-she-may-rein-edd9f99be63d)    \n",
    "- [XGBoost About - XGBoost.io](https://xgboost.ai/about)\n",
    "- [Gradient Boosting - Wikipedia](https://en.wikipedia.org/wiki/Gradient_boosting)\n",
    "- [XGBoost en R - Medium](https://medium.com/@jboscomendoza/xgboost-en-r-398e7c84998e)\n",
    "- [A Beginners Guide to XGBoost - Medium](https://towardsdatascience.com/a-beginners-guide-to-xgboost-87f5d4c30ed7)\n",
    "- [Gentle Introduction XGBoost - MachineLearningMastery](https://machinelearningmastery.com/gentle-introduction-xgboost-applied-machine-learning/)\n",
    "- [Advantages of XGBoost - TheProfessionalsPoint](http://theprofessionalspoint.blogspot.com/2019/03/advantages-of-xgboost-algorithm-in.html)\n",
    "\n",
    "## Vídeos\n",
    "\n",
    "- [MACHINE LEARNING EN PYTHON | XGBOOST](https://www.youtube.com/watch?v=oF58IQ5W0cg&t=922s) | _Español_ | Ejemplo práctico.\n",
    "- [XGBOOST in Python (Hyper parameter tuning)](https://www.youtube.com/watch?v=AvWfL1Us3Kg&t=271s)| _Inglés_ | Ejemplo práctico.\n",
    "- [XGBoost Part 1: Regression](https://www.youtube.com/watch?v=OtD8wVaFm6E&t=679s)| _Inglés_ | _(Te recomiendo ver **toda** la serie)._\n",
    "- [Machine Learning: del arbol de decisión al bosque de árboles con boosting (XGBoost)](https://www.youtube.com_Español_/watch?v=PN-8dTXh3DU) | _Español_ | Teoría."
   ]
  },
  {
   "cell_type": "code",
   "execution_count": null,
   "metadata": {},
   "outputs": [],
   "source": []
  },
  {
   "cell_type": "code",
   "execution_count": null,
   "metadata": {},
   "outputs": [],
   "source": []
  },
  {
   "cell_type": "code",
   "execution_count": null,
   "metadata": {},
   "outputs": [],
   "source": []
  },
  {
   "cell_type": "code",
   "execution_count": null,
   "metadata": {},
   "outputs": [],
   "source": []
  },
  {
   "cell_type": "code",
   "execution_count": null,
   "metadata": {},
   "outputs": [],
   "source": []
  }
 ],
 "metadata": {
  "colab": {
   "authorship_tag": "ABX9TyMXLuhou7iP5y0hKrB6kIzl",
   "collapsed_sections": [],
   "name": "XGBoost.ipynb",
   "provenance": []
  },
  "kernelspec": {
   "display_name": "Python 3",
   "language": "python",
   "name": "python3"
  },
  "language_info": {
   "codemirror_mode": {
    "name": "ipython",
    "version": 3
   },
   "file_extension": ".py",
   "mimetype": "text/x-python",
   "name": "python",
   "nbconvert_exporter": "python",
   "pygments_lexer": "ipython3",
   "version": "3.7.6"
  }
 },
 "nbformat": 4,
 "nbformat_minor": 1
}
