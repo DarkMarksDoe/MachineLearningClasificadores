{
 "cells": [
  {
   "attachments": {},
   "cell_type": "markdown",
   "metadata": {},
   "source": [
    "<img src=https://raw.githubusercontent.com/dmlc/dmlc.github.io/master/img/logo-m/xgboost.png width=260/>\n",
    "<h1 align=\"center\"> eXtreme Gradient Boosting </h1>\n",
    "<br>\n",
    "\n",
    "## ¿No lo conoces?, ¿Bromeas?\n",
    "<img src=https://i.pinimg.com/564x/40/ca/97/40ca978fac384a154b9b333d263a4fe6.jpg align=\"left\" width=260/>\n",
    "<br>\n",
    "<br>\n",
    "<br>\n",
    "<br>\n",
    "<br>\n",
    "<br>\n",
    "<br>\n",
    "<br>\n",
    "<br>\n",
    "<br>\n",
    "\n",
    "## Abro hilo para que lo conozcas:    \n",
    "<img src=https://pm1.narvii.com/7588/bbee72d9012317bc2456eb1402d282aa7d486b70r1-2048-1400v2_hq.jpg align=\"center\" width=450/>\n",
    "<br>\n",
    "\n",
    "## Ventajas:  \n",
    "\n",
    "&emsp;**1.- Es de código abierto:**    \n",
    "&emsp; &emsp; Es mantenido y actualizado [DMLC](https://github.com/dmlc). **D**istributed (Deep) **M**achine **L**earning **C**ommunity  \n",
    "&emsp;**2.- Puede ser distribuido:**       \n",
    "&emsp; &emsp; Permite el _training_ en multiples _Cloud Machines_ , incluyendo: **AWS**, **GCE**, **Azure** y **Yarn**. Igual con otros _Cloud Dataflow Systems_ como **Flink** y **Spark**.    \n",
    "&emsp;**3.- _GPU_ / _CPU_ friendly bro:**       \n",
    "&emsp; &emsp; Dentro de los parametros de xgboost permite modificar si el _training_ será por CPU o GPU, y si es CPU permite definir el número de _Cores_.  \n",
    "&emsp;**4.- Buena regularización:**     \n",
    "&emsp; &emsp; Para prevenir el _Overfitting_ o _Memorizar_ contiene 2 parámetros **_L1_** _(Lasso Regression)_ y **_L2_** _(Ridge Regression)_.  \n",
    "&emsp; &emsp; Mientras usamos la librería de [scikit-learn](https://scikit-learn.org), pasamos 2 _hyper-params_ (**alpha** y **lambda**) para regularizar XGBoost. **alpha** es usada para _L1_ y **lambda**      \n",
    "&emsp; &emsp; para _[L2](https://scikit-learn.org/stable/modules/generated/sklearn.ensemble.HistGradientBoostingClassifier.html?highlight=l2_regularization)_.   \n",
    "&emsp; **5.- Cross Validation:**  \n",
    "&emsp; &emsp; XGBoost permite corer _cross-validation_ en cada iteración del proceso de _boosting_ y gracias a eso es fácil obtener el número óptimo exacto de las  \n",
    "&emsp; &emsp; iteraciones en una unica ejecución.  \n",
    "\n",
    "## Sí sí, muy bonito todo, pero...  \n",
    "## ¿Pa' qué o qué?  \n",
    "\n",
    "#### Deja te explico mi estimado lector anónimo, el pa' qué de usar XGBoost."
   ]
  },
  {
   "cell_type": "code",
   "execution_count": null,
   "metadata": {},
   "outputs": [],
   "source": []
  }
 ],
 "metadata": {
  "colab": {
   "authorship_tag": "ABX9TyMXLuhou7iP5y0hKrB6kIzl",
   "collapsed_sections": [],
   "name": "XGBoost.ipynb",
   "provenance": []
  },
  "kernelspec": {
   "display_name": "Python 3",
   "language": "python",
   "name": "python3"
  },
  "language_info": {
   "codemirror_mode": {
    "name": "ipython",
    "version": 3
   },
   "file_extension": ".py",
   "mimetype": "text/x-python",
   "name": "python",
   "nbconvert_exporter": "python",
   "pygments_lexer": "ipython3",
   "version": "3.7.6"
  }
 },
 "nbformat": 4,
 "nbformat_minor": 1
}
